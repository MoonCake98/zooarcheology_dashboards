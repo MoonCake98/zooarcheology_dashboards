{
 "cells": [
  {
   "cell_type": "markdown",
   "metadata": {},
   "source": [
    "# intro\n",
    "\n",
    "The purpose of this project is to create a data dashboard suited for interactivity and visually representing zooarchelogical data for our client."
   ]
  },
  {
   "cell_type": "markdown",
   "metadata": {},
   "source": [
    "# about the data\n",
    "\n",
    "The data for this project concerns a dataset acquired from [opencontext.org](https://opencontext.org/) specifically one that our client, [Sarah Whitcher Kansa](https://opencontext.org/about/people), contributed to. The dataset we begin with is the [Domuztepe Excavations](https://opencontext.org/projects/e6fb0f7c-6f69-6ca8-683b-8c6d5e98a099) dataset, this dataset contains the objects and zooarcheological features found at the Domuztepe Excavation site. The dataset contains a variety of data about these objects including the wgs formatted coordinates the object was found at, the dating, the item category and many more such things.\n",
    "\n",
    "The reason this particular dataset was chosen was the contribution of the client of this project and the present data varity compared to other datasets I was able to find on [opencontext](https://opencontext.org/). As of the writing of this my contact person has not had contact with our client yet but has stated that he is in the process of contacting our client. So after consulting with the contact person I have gained approval for developement of the data dashboard using this dataset."
   ]
  },
  {
   "cell_type": "markdown",
   "metadata": {},
   "source": [
    "# data exploration"
   ]
  },
  {
   "cell_type": "markdown",
   "metadata": {},
   "source": [
    "# developement of the app\n",
    "\n",
    "For the developement of this app we will be using the python language and primarily the panel package for the construction of our dashboard. But all the used packages are too much to discuss each individually and as such I will display all the used packages for this project in the table below along with their versions and intended uses for this project.\n",
    "\n",
    "|package name|version|intended use|\n",
    "|---|---|---|\n",
    "|panel||the visual construction of our data dashboard and interactive components for the end user|\n",
    "\n",
    "Due to my lack of experience with thy python package panel in particular I initially tried to contain the creation of panels and the process of displaying these panels within functions but after further consultation with my contact person I have been informed that the panel package is meant to be used as top level code."
   ]
  },
  {
   "cell_type": "markdown",
   "metadata": {},
   "source": []
  },
  {
   "cell_type": "markdown",
   "metadata": {},
   "source": []
  }
 ],
 "metadata": {
  "language_info": {
   "name": "python"
  }
 },
 "nbformat": 4,
 "nbformat_minor": 2
}
